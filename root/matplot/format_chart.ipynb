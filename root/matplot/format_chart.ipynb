{
 "cells": [
  {
   "cell_type": "code",
   "execution_count": null,
   "metadata": {},
   "outputs": [],
   "source": [
    "\n",
    "#comparing different sets of ploted data to one another \n",
    "import ast \n",
    "import pandas as pd\n",
    "import matplotlib.pyplot as plt\n",
    "\n",
    "df = pd.read_csv('../pandas/data_jobs.csv')\n",
    "\n",
    "df['job_posted_date'] = pd.to_datetime(df['job_posted_date'])\n",
    "\n",
    "def format_charts(x):\n",
    "    if pd.notna(x):\n",
    "        return ast.literal_eval(x)\n",
    "    else:\n",
    "        return x\n",
    "df['job_skills'] = df['job_skills'].apply(format_charts)\n",
    "# (lambda x:ast.literal_eval(x) if pd.notna(x) else x)\n",
    "fig, ax = plt.subplots()\n"
   ]
  },
  {
   "cell_type": "code",
   "execution_count": null,
   "metadata": {},
   "outputs": [],
   "source": [
    "fig,ax = plt.subplots(1,2)\n",
    "df['job_title_short'].value_counts().plot(kind='bar',ax=ax[0])\n",
    "df['job_schedule_type'].value_counts().head(3).plot(kind='bar',ax=ax[1])\n",
    "\n",
    "fig.tight_layout()\n",
    "\n"
   ]
  },
  {
   "cell_type": "code",
   "execution_count": null,
   "metadata": {},
   "outputs": [],
   "source": [
    "job_titles = ['Data Scientist','Data Engineer','Data ANalyst']\n",
    "\n",
    "fig,ax = plt.subplots(3,1)\n",
    "\n",
    "for i, job_title in enumerate(job_titles)"
   ]
  }
 ],
 "metadata": {
  "kernelspec": {
   "display_name": "myenv",
   "language": "python",
   "name": "python3"
  },
  "language_info": {
   "codemirror_mode": {
    "name": "ipython",
    "version": 3
   },
   "file_extension": ".py",
   "mimetype": "text/x-python",
   "name": "python",
   "nbconvert_exporter": "python",
   "pygments_lexer": "ipython3",
   "version": "3.11.9"
  }
 },
 "nbformat": 4,
 "nbformat_minor": 2
}
