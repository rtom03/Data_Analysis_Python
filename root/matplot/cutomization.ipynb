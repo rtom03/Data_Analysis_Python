{
 "cells": [
  {
   "cell_type": "code",
   "execution_count": 41,
   "metadata": {},
   "outputs": [
    {
     "ename": "ModuleNotFoundError",
     "evalue": "No module named 'adjustText'",
     "output_type": "error",
     "traceback": [
      "\u001b[0;31m---------------------------------------------------------------------------\u001b[0m",
      "\u001b[0;31mModuleNotFoundError\u001b[0m                       Traceback (most recent call last)",
      "Cell \u001b[0;32mIn[41], line 4\u001b[0m\n\u001b[1;32m      2\u001b[0m \u001b[38;5;28;01mimport\u001b[39;00m \u001b[38;5;21;01mpandas\u001b[39;00m \u001b[38;5;28;01mas\u001b[39;00m \u001b[38;5;21;01mpd\u001b[39;00m\n\u001b[1;32m      3\u001b[0m \u001b[38;5;28;01mimport\u001b[39;00m \u001b[38;5;21;01mmatplotlib\u001b[39;00m\u001b[38;5;21;01m.\u001b[39;00m\u001b[38;5;21;01mpyplot\u001b[39;00m \u001b[38;5;28;01mas\u001b[39;00m \u001b[38;5;21;01mplt\u001b[39;00m\n\u001b[0;32m----> 4\u001b[0m \u001b[38;5;28;01mfrom\u001b[39;00m \u001b[38;5;21;01madjustText\u001b[39;00m \u001b[38;5;28;01mimport\u001b[39;00m adjust_text\n\u001b[1;32m      7\u001b[0m df \u001b[38;5;241m=\u001b[39m pd\u001b[38;5;241m.\u001b[39mread_csv(\u001b[38;5;124m'\u001b[39m\u001b[38;5;124m../pandas/data_jobs.csv\u001b[39m\u001b[38;5;124m'\u001b[39m)\n\u001b[1;32m      9\u001b[0m df[\u001b[38;5;124m'\u001b[39m\u001b[38;5;124mjob_posted_date\u001b[39m\u001b[38;5;124m'\u001b[39m] \u001b[38;5;241m=\u001b[39m pd\u001b[38;5;241m.\u001b[39mto_datetime(df[\u001b[38;5;124m'\u001b[39m\u001b[38;5;124mjob_posted_date\u001b[39m\u001b[38;5;124m'\u001b[39m])\n",
      "\u001b[0;31mModuleNotFoundError\u001b[0m: No module named 'adjustText'"
     ]
    }
   ],
   "source": [
    "import ast \n",
    "import pandas as pd\n",
    "import matplotlib.pyplot as plt\n",
    "\n",
    "df = pd.read_csv('../pandas/data_jobs.csv')\n",
    "\n",
    "df['job_posted_date'] = pd.to_datetime(df['job_posted_date'])\n",
    "\n",
    "def customization(x):\n",
    "    if pd.notna(x):\n",
    "        return pd.to_datetime(x, format='%m').strftime('%b')\n",
    "    else:\n",
    "        return x\n",
    "def explode_list(x):\n",
    "    if pd.notna(x):\n",
    "        return ast.literal_eval(x)\n",
    "    else:\n",
    "        return x\n",
    "        \n",
    "    \n",
    "df_DA = df[df['job_title_short'] == 'Data Analyst'].copy()\n",
    "\n",
    "#create a new column for month number with value of the month index\n",
    "df_DA['job_posted_month_no'] = df_DA['job_posted_date'].dt.month\n",
    "\n",
    "#Explode the job_skill column and pivot\n",
    "df_DA['job_skills'] = df_DA['job_skills'].apply(explode_list)\n",
    "df_DA_explode = df_DA.explode('job_skills')\n",
    "df_DA_pivot = df_DA_explode.pivot_table(index='job_posted_month_no',columns='job_skills',aggfunc='size',fill_value=0)\n",
    "\n",
    "#sort the skills by count\n",
    "df_DA_pivot.loc['Total'] = df_DA_pivot.sum()\n",
    "df_DA_pivot = df_DA_pivot[df_DA_pivot.loc['Total'].sort_values(ascending=False).index]\n",
    "df_DA_pivot = df_DA_pivot.drop('Total')\n",
    "\n",
    "\n",
    "#use month names for plotting\n",
    "df_DA_pivot = df_DA_pivot.reset_index()\n",
    "df_DA_pivot['job_posted_month'] = df_DA_pivot['job_posted_month_no'].apply(customization)\n",
    "df_DA_pivot = df_DA_pivot.set_index('job_posted_month')\n",
    "df_DA_pivot = df_DA_pivot.drop(columns='job_posted_month_no')\n",
    "df_DA_pivot.iloc[:, :5].plot(\n",
    "    kind='line',\n",
    "    linewidth=1,\n",
    "    linestyle=':',\n",
    "    colormap='viridis',\n",
    "    marker = 'o',\n",
    "    )\n",
    "\n",
    "plt.title('Job Trending Post')\n"
   ]
  },
  {
   "cell_type": "code",
   "execution_count": 40,
   "metadata": {},
   "outputs": [
    {
     "ename": "ModuleNotFoundError",
     "evalue": "No module named 'adjustText'",
     "output_type": "error",
     "traceback": [
      "\u001b[0;31m---------------------------------------------------------------------------\u001b[0m",
      "\u001b[0;31mModuleNotFoundError\u001b[0m                       Traceback (most recent call last)",
      "Cell \u001b[0;32mIn[40], line 1\u001b[0m\n\u001b[0;32m----> 1\u001b[0m \u001b[38;5;28;01mfrom\u001b[39;00m \u001b[38;5;21;01madjustText\u001b[39;00m \u001b[38;5;28;01mimport\u001b[39;00m adjust_text\n\u001b[1;32m      2\u001b[0m df \u001b[38;5;241m=\u001b[39m df[df[\u001b[38;5;124m'\u001b[39m\u001b[38;5;124mjob_title_short\u001b[39m\u001b[38;5;124m'\u001b[39m] \u001b[38;5;241m==\u001b[39m \u001b[38;5;124m'\u001b[39m\u001b[38;5;124mData Analyst\u001b[39m\u001b[38;5;124m'\u001b[39m]\n\u001b[1;32m      3\u001b[0m df_explode \u001b[38;5;241m=\u001b[39m df\u001b[38;5;241m.\u001b[39mexplode(\u001b[38;5;124m'\u001b[39m\u001b[38;5;124mjob_skills\u001b[39m\u001b[38;5;124m'\u001b[39m)\n",
      "\u001b[0;31mModuleNotFoundError\u001b[0m: No module named 'adjustText'"
     ]
    }
   ],
   "source": [
    "\n",
    "df = df[df['job_title_short'] == 'Data Analyst']\n",
    "df_explode = df.explode('job_skills')\n",
    "\n",
    "skill_stat = df_explode.groupby('job_skills').agg(\n",
    "    skill_count = ('job_skills','count'),\n",
    "    median_salary = ('salary_year_avg','median')\n",
    ")\n",
    "\n",
    "skill_stats = skill_stat.sort_values(by='skill_count',ascending=False).head(20)\n",
    "skill_stats.plot(kind='scatter', x='skill_count',y='median_salary')\n",
    "\n",
    "texts = []\n",
    "for i,txt in enumerate(skill_stats.index):\n",
    "    texts.append(plt.text(skill_stats['skill_count'].iloc[i],skill_stats['median_salary'].iloc[i],txt))\n",
    "adjust_text(texts)\n",
    "plt.title('Salary vs Count of Job Posting for Top 10 Skills')\n",
    "plt.ylabel('Median Yearly Salary ($USSD)')\n",
    "plt.xlabel('Count of Job Postings')"
   ]
  }
 ],
 "metadata": {
  "kernelspec": {
   "display_name": "myenv",
   "language": "python",
   "name": "python3"
  },
  "language_info": {
   "codemirror_mode": {
    "name": "ipython",
    "version": 3
   },
   "file_extension": ".py",
   "mimetype": "text/x-python",
   "name": "python",
   "nbconvert_exporter": "python",
   "pygments_lexer": "ipython3",
   "version": "3.11.9"
  }
 },
 "nbformat": 4,
 "nbformat_minor": 2
}
