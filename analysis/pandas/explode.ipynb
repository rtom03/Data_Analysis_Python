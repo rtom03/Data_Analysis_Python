{
 "cells": [
  {
   "cell_type": "code",
   "execution_count": null,
   "metadata": {},
   "outputs": [],
   "source": [
    "import pandas as pd\n",
    "import matplotlib.pyplot as plt\n",
    "import ast \n",
    "\n",
    "df = pd.read_csv('data_jobs.csv')\n",
    "df['job_posted_date'] = pd.to_datetime(df['job_posted_date'])\n",
    "\n",
    "# def explode_data(x):\n",
    "#     if pd.notna in x:\n",
    "#       return ast.literal_eval(x)\n",
    "#     else:\n",
    "#         return x\n",
    "\n",
    "df_skill = df['job_skills'].apply(lambda x:ast.literal_eval(x) if pd.notna(x) else(x))\n",
    "df_skill.explode('job_skills').value_counts('job_skills')"
   ]
  },
  {
   "cell_type": "code",
   "execution_count": null,
   "metadata": {},
   "outputs": [],
   "source": [
    "\n"
   ]
  }
 ],
 "metadata": {
  "kernelspec": {
   "display_name": "myenv",
   "language": "python",
   "name": "python3"
  },
  "language_info": {
   "codemirror_mode": {
    "name": "ipython",
    "version": 3
   },
   "file_extension": ".py",
   "mimetype": "text/x-python",
   "name": "python",
   "nbconvert_exporter": "python",
   "pygments_lexer": "ipython3",
   "version": "3.11.9"
  }
 },
 "nbformat": 4,
 "nbformat_minor": 2
}
