{
 "cells": [
  {
   "cell_type": "code",
   "execution_count": 17,
   "metadata": {},
   "outputs": [
    {
     "name": "stdout",
     "output_type": "stream",
     "text": [
      "Length of original df:    785741\n",
      "Length of drop duplicate df:    508042\n",
      "Rows Dropped df:    277699\n"
     ]
    }
   ],
   "source": [
    "import pandas as pd\n",
    "\n",
    "df = pd.read_csv('data_jobs.csv')\n",
    "df['job_posted_date'] = pd.to_datetime(df['job_posted_date'])\n",
    "\n",
    "\n",
    "median_salary_hour_df = df['salary_hour_avg'].median()\n",
    "median_salary_year_df = df['salary_year_avg'].median()\n",
    "\n",
    "\n",
    "df_filled = df\n",
    "df_filled['salary_hour_avg']=df_filled['salary_hour_avg'].fillna(median_salary_hour_df)\n",
    "df_filled['salary_year_avg'] = df_filled['salary_year_avg'].fillna(median_salary_year_df)\n",
    "\n",
    "df_unique = df_filled\n",
    "\n",
    "df_unique = df_unique.drop_duplicates()\n",
    "\n",
    "\n",
    "\n",
    "\n",
    "df_unique = df_unique.drop_duplicates(subset=['company_name','job_title'])\n",
    "\n",
    "print('Length of original df:   ',len(df_filled))\n",
    "print('Length of drop duplicate df:   ',len(df_unique))\n",
    "print('Rows Dropped df:   ',len(df_filled) - len(df_unique))\n",
    "# df.iloc[0:10]"
   ]
  }
 ],
 "metadata": {
  "kernelspec": {
   "display_name": "myenv",
   "language": "python",
   "name": "python3"
  },
  "language_info": {
   "codemirror_mode": {
    "name": "ipython",
    "version": 3
   },
   "file_extension": ".py",
   "mimetype": "text/x-python",
   "name": "python",
   "nbconvert_exporter": "python",
   "pygments_lexer": "ipython3",
   "version": "3.12.3"
  }
 },
 "nbformat": 4,
 "nbformat_minor": 2
}
