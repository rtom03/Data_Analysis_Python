{
 "cells": [
  {
   "cell_type": "code",
   "execution_count": null,
   "metadata": {},
   "outputs": [],
   "source": [
    "import ast \n",
    "import pandas as pd\n",
    "from datasets import load_dataset\n",
    "import matplotlib.pyplot as plt\n",
    "import seaborn as sns\n",
    "\n",
    "dataset = load_dataset('lukebarousse/data_jobs')\n",
    "df = dataset['train'].to_pandas()\n",
    "\n",
    "def to_list(x):\n",
    "    if pd.notna(x):\n",
    "        return ast.literal_eval(x)\n",
    "    else:\n",
    "        return x\n",
    "\n",
    "df['job_posted_date'] = pd.to_datetime(df['job_posted_date'])\n",
    "df['job_skills'] = df['job_skills'].apply(to_list)\n",
    "df_DA = df[(df['job_title_short'] == 'Data Analyst') & (df['job_country'] == 'United States')]\n",
    "df_DA_US = df_DA.dropna(subset=['salary_year_avg'])\n",
    "df_DA_US = df_DA_US.explode('job_skills')\n",
    "df_DA_US[['salary_year_avg','job_skills']]\n",
    "\n",
    "#index by skills\n",
    "df_DA_US_GRP = df_DA_US.groupby('job_skills')['salary_year_avg'].agg(['count','median'])\n",
    "\n",
    "\n",
    "#sorted  by to pay\n",
    "df_DA_top_pay = df_DA_US_GRP.sort_values(by='median',ascending=False).head(10)\n",
    "\n",
    "#sorted by most demand skills\n",
    "df_DA_top_skills = df_DA_US_GRP.sort_values(by='count',ascending=False).head(10)\n",
    "\n",
    "\n",
    "\n",
    "fig,ax = plt.subplots(2,1)\n",
    "\n",
    "df_DA_top_pay.plot(kind='barh',y='median',ax=ax[0],legend=False)\n",
    "df_DA_top_skills.plot(kind='barh',y='median',ax=ax[1],legend=False)\n",
    "\n",
    "sns.barplot(data=df_DA_top_pay, x='median',y=df_DA_top_pay.index,ax=ax[0], hue='median',palette='dark:b_r:')\n",
    "ax[0].set_title('Highest Paid Data Analyst skills')\n",
    "ax[0].set_xlabel('')\n",
    "ax[0].set_ylabel('Frequency')\n",
    "ax[0].xaxis.set_major_formatter(plt.FuncFormatter(lambda x, pos:'${0:g}k'.format(x/100)))\n",
    "ax[0].invert_yaxis()\n",
    "\n",
    "sns.barplot(data=df_DA_top_skills, x='median',y=df_DA_top_skills.index,ax=ax[1])\n",
    "ax[1].set_title('Most Demand Data Analyst Skills')\n",
    "# ax[1].set_yticklabels('')\n",
    "ax[1].set_xlabel('')\n",
    "ax[1].set_ylabel('Demands Skills')\n",
    "ax[1].xaxis.set_major_formatter(plt.FuncFormatter(lambda x, pos:'${0:g}k'.format(x/100)))\n",
    "\n",
    "fig.tight_layout(h_pad=1)\n",
    "\n",
    "\n"
   ]
  }
 ],
 "metadata": {
  "kernelspec": {
   "display_name": "myenv",
   "language": "python",
   "name": "python3"
  },
  "language_info": {
   "codemirror_mode": {
    "name": "ipython",
    "version": 3
   },
   "file_extension": ".py",
   "mimetype": "text/x-python",
   "name": "python",
   "nbconvert_exporter": "python",
   "pygments_lexer": "ipython3",
   "version": "3.11.9"
  }
 },
 "nbformat": 4,
 "nbformat_minor": 2
}
